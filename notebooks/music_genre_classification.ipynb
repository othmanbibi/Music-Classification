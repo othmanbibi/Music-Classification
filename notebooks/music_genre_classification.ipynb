{
 "cells": [
  {
   "cell_type": "markdown",
   "id": "87fa7bf6-bd31-439d-8db9-4be73bfebd40",
   "metadata": {},
   "source": [
    "# Music Genre Classification"
   ]
  },
  {
   "cell_type": "markdown",
   "id": "521f469c-5b68-47a9-a173-611225992a73",
   "metadata": {},
   "source": [
    "## Import Libraries"
   ]
  },
  {
   "cell_type": "code",
   "execution_count": 1,
   "id": "378263e6-668a-4b07-91a7-6c2adb356511",
   "metadata": {},
   "outputs": [
    {
     "name": "stdout",
     "output_type": "stream",
     "text": [
      "2.19.0\n",
      "Num GPUs Available: 0\n"
     ]
    }
   ],
   "source": [
    "import tensorflow as tf\n",
    "print(tf.__version__)\n",
    "print(\"Num GPUs Available:\", len(tf.config.list_physical_devices('GPU')))"
   ]
  },
  {
   "cell_type": "code",
   "execution_count": 2,
   "id": "bce3a69f-1482-458f-a4f6-5fb53f4d68c2",
   "metadata": {},
   "outputs": [],
   "source": [
    "import os\n",
    "import librosa\n",
    "import matplotlib.pyplot as plt"
   ]
  },
  {
   "cell_type": "markdown",
   "id": "c2781162-1dec-447e-8ee8-8bd2ec80c66c",
   "metadata": {},
   "source": [
    "## File Visualization"
   ]
  },
  {
   "cell_type": "code",
   "execution_count": 5,
   "id": "0fc263af-f010-420c-b6dd-94a6a3511931",
   "metadata": {},
   "outputs": [],
   "source": [
    "file_name = r'C:\\Users\\SAMSUNG\\OneDrive - Université Mohammed VI Polytechnique\\Desktop\\Music_ML_Pr\\music-ml-app\\data\\audio\\metal\\metal.00000.wav'"
   ]
  },
  {
   "cell_type": "code",
   "execution_count": 6,
   "id": "b02cb78a-c0a7-4f5c-b575-16955ce4e025",
   "metadata": {},
   "outputs": [],
   "source": [
    "y, sr = librosa.load(file_name, sr=44100)"
   ]
  },
  {
   "cell_type": "code",
   "execution_count": 7,
   "id": "e71d1d83-96ab-4301-8d5f-6360a999fedf",
   "metadata": {},
   "outputs": [
    {
     "data": {
      "text/plain": [
       "array([-0.11489304, -0.10532791, -0.05700932, ..., -0.06113184,\n",
       "       -0.02892312, -0.0030316 ], dtype=float32)"
      ]
     },
     "execution_count": 7,
     "metadata": {},
     "output_type": "execute_result"
    }
   ],
   "source": [
    "y"
   ]
  },
  {
   "cell_type": "code",
   "execution_count": 8,
   "id": "b19ac236-7585-4e36-a068-a4b41d2f4b0a",
   "metadata": {},
   "outputs": [
    {
     "data": {
      "text/plain": [
       "44100"
      ]
     },
     "execution_count": 8,
     "metadata": {},
     "output_type": "execute_result"
    }
   ],
   "source": [
    "sr"
   ]
  },
  {
   "cell_type": "code",
   "execution_count": 9,
   "id": "fe03af92-e571-4a65-aa24-355d23b4870b",
   "metadata": {},
   "outputs": [
    {
     "data": {
      "text/plain": [
       "(1323008,)"
      ]
     },
     "execution_count": 9,
     "metadata": {},
     "output_type": "execute_result"
    }
   ],
   "source": [
    "y.shape"
   ]
  },
  {
   "cell_type": "code",
   "execution_count": null,
   "id": "d7d24740-2a62-49a3-9575-0dcff3073c7b",
   "metadata": {},
   "outputs": [],
   "source": []
  }
 ],
 "metadata": {
  "kernelspec": {
   "display_name": "Python 3 (ipykernel)",
   "language": "python",
   "name": "python3"
  },
  "language_info": {
   "codemirror_mode": {
    "name": "ipython",
    "version": 3
   },
   "file_extension": ".py",
   "mimetype": "text/x-python",
   "name": "python",
   "nbconvert_exporter": "python",
   "pygments_lexer": "ipython3",
   "version": "3.12.11"
  }
 },
 "nbformat": 4,
 "nbformat_minor": 5
}
